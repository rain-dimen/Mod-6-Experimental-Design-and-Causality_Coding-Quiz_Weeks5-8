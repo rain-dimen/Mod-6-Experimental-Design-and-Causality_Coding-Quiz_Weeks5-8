{
 "cells": [
  {
   "cell_type": "code",
   "execution_count": 3,
   "id": "aa913016",
   "metadata": {},
   "outputs": [
    {
     "name": "stdout",
     "output_type": "stream",
     "text": [
      "Collecting statsmodels\n",
      "  Downloading statsmodels-0.14.5-cp312-cp312-manylinux2014_x86_64.manylinux_2_17_x86_64.manylinux_2_28_x86_64.whl.metadata (9.5 kB)\n",
      "Requirement already satisfied: numpy<3,>=1.22.3 in /home/codespace/.local/lib/python3.12/site-packages (from statsmodels) (2.3.1)\n",
      "Requirement already satisfied: scipy!=1.9.2,>=1.8 in /home/codespace/.local/lib/python3.12/site-packages (from statsmodels) (1.16.0)\n",
      "Requirement already satisfied: pandas!=2.1.0,>=1.4 in /home/codespace/.local/lib/python3.12/site-packages (from statsmodels) (2.3.1)\n",
      "Collecting patsy>=0.5.6 (from statsmodels)\n",
      "  Downloading patsy-1.0.1-py2.py3-none-any.whl.metadata (3.3 kB)\n",
      "Requirement already satisfied: packaging>=21.3 in /home/codespace/.local/lib/python3.12/site-packages (from statsmodels) (25.0)\n",
      "Requirement already satisfied: python-dateutil>=2.8.2 in /home/codespace/.local/lib/python3.12/site-packages (from pandas!=2.1.0,>=1.4->statsmodels) (2.9.0.post0)\n",
      "Requirement already satisfied: pytz>=2020.1 in /home/codespace/.local/lib/python3.12/site-packages (from pandas!=2.1.0,>=1.4->statsmodels) (2025.2)\n",
      "Requirement already satisfied: tzdata>=2022.7 in /home/codespace/.local/lib/python3.12/site-packages (from pandas!=2.1.0,>=1.4->statsmodels) (2025.2)\n",
      "Requirement already satisfied: six>=1.5 in /home/codespace/.local/lib/python3.12/site-packages (from python-dateutil>=2.8.2->pandas!=2.1.0,>=1.4->statsmodels) (1.17.0)\n",
      "Downloading statsmodels-0.14.5-cp312-cp312-manylinux2014_x86_64.manylinux_2_17_x86_64.manylinux_2_28_x86_64.whl (10.4 MB)\n",
      "\u001b[2K   \u001b[90m━━━━━━━━━━━━━━━━━━━━━━━━━━━━━━━━━━━━━━━━\u001b[0m \u001b[32m10.4/10.4 MB\u001b[0m \u001b[31m43.8 MB/s\u001b[0m eta \u001b[36m0:00:00\u001b[0m:00:01\u001b[0m\n",
      "\u001b[?25hDownloading patsy-1.0.1-py2.py3-none-any.whl (232 kB)\n",
      "Installing collected packages: patsy, statsmodels\n",
      "\u001b[2K   \u001b[90m━━━━━━━━━━━━━━━━━━━━━━━━━━━━━━━━━━━━━━━━\u001b[0m \u001b[32m2/2\u001b[0m [statsmodels]\u001b[0m [statsmodels]\n",
      "\u001b[1A\u001b[2KSuccessfully installed patsy-1.0.1 statsmodels-0.14.5\n",
      "\n",
      "\u001b[1m[\u001b[0m\u001b[34;49mnotice\u001b[0m\u001b[1;39;49m]\u001b[0m\u001b[39;49m A new release of pip is available: \u001b[0m\u001b[31;49m25.1.1\u001b[0m\u001b[39;49m -> \u001b[0m\u001b[32;49m25.2\u001b[0m\n",
      "\u001b[1m[\u001b[0m\u001b[34;49mnotice\u001b[0m\u001b[1;39;49m]\u001b[0m\u001b[39;49m To update, run: \u001b[0m\u001b[32;49mpython3 -m pip install --upgrade pip\u001b[0m\n"
     ]
    }
   ],
   "source": [
    "!pip install statsmodels"
   ]
  },
  {
   "cell_type": "code",
   "execution_count": 2,
   "id": "ac5ccdf0",
   "metadata": {},
   "outputs": [],
   "source": [
    "import numpy as np\n",
    "import pandas as pd\n",
    "import scipy\n",
    "import matplotlib.pyplot as plt\n",
    "import statsmodels.formula.api as smf\n",
    "import statsmodels.api as sm"
   ]
  },
  {
   "cell_type": "code",
   "execution_count": 3,
   "id": "beb5b35d-d0f3-4154-b67e-185ba285484b",
   "metadata": {},
   "outputs": [],
   "source": [
    "import matplotlib.pyplot as plt\n",
    "import numpy as np\n",
    "import pandas as pd\n",
    "import scipy\n",
    "import statsmodels.api as sm\n",
    "import seaborn as sns\n",
    "import networkx as nx\n",
    "from sklearn.metrics import accuracy_score, roc_auc_score\n"
   ]
  },
  {
   "cell_type": "markdown",
   "id": "7baed688",
   "metadata": {},
   "source": [
    "# Week 5 "
   ]
  },
  {
   "cell_type": "markdown",
   "id": "0a98b543",
   "metadata": {},
   "source": [
    "In this example, ﻿Z﻿ = the likelihood of a biking accident, ﻿Y﻿ = speed, and ﻿X﻿ = trail difficulty. We assume that ﻿X﻿ decreases ﻿Y﻿ causally because people decrease their speed on difficult trails. In addition, ﻿Y﻿ and ﻿X﻿ both increase ﻿Z﻿ causally because fast biking on difficult trails leads to accidents. Difficulty will be on a scale from 0 to 1, speed in miles per hour, and likelihood of an accident also on a scale from 0 to 1. (Based on the numbers, I'd say these trails are quite challenging!) "
   ]
  },
  {
   "cell_type": "code",
   "execution_count": 3,
   "id": "0839237c",
   "metadata": {},
   "outputs": [],
   "source": [
    "# Code to create data for this question \n",
    "num = 100000 \n",
    " \n",
    "difficulty = np.random.uniform(0, 1, (num,)) \n",
    " \n",
    "speed = np.maximum(np.random.normal(15, 5, (num, )) - difficulty * 10, 0) \n",
    " \n",
    "accident = np.minimum(np.maximum(0.03 * speed + 0.4 * difficulty + np.random.normal(0, 0.3, (num,)), 0), 1) \n",
    " \n",
    "df = pd.DataFrame({'difficulty': difficulty, 'speed': speed, 'accident': accident}) "
   ]
  },
  {
   "cell_type": "markdown",
   "id": "2ce6d151",
   "metadata": {},
   "source": [
    "Question 1: Use ﻿X﻿ to predict ﻿Y﻿ many times via regression with different data sets. Use many samples in each prediction. Which is closest to the average coefficient of ﻿X﻿ if you do the experiment enough times? \n",
    "\n"
   ]
  },
  {
   "cell_type": "code",
   "execution_count": null,
   "id": "5e88abd5",
   "metadata": {},
   "outputs": [
    {
     "name": "stdout",
     "output_type": "stream",
     "text": [
      "Average coefficient of difficulty (X) on speed (Y) = -9.589\n"
     ]
    }
   ],
   "source": [
    "# runing regression many times to estimate average coefficient of X on Y\n",
    "num_experiments = 1000\n",
    "\n",
    "# store coefficients in a list\n",
    "coeffs = []\n",
    "\n",
    "for i in range(num_experiments):\n",
    "    # take a random sample\n",
    "    sample = df.sample(1000, replace=True)\n",
    "    \n",
    "    X = sm.add_constant(sample[\"difficulty\"])\n",
    "    y = sample[\"speed\"]\n",
    "    model = sm.OLS(y, X).fit()\n",
    "    coeffs.append(model.params[\"difficulty\"])\n",
    "\n",
    "# find the average coefficient\n",
    "avg_coef = np.mean(coeffs)\n",
    "print(f\"Average coefficient of difficulty (X) on speed (Y) = {avg_coef:.3f}\")"
   ]
  },
  {
   "cell_type": "code",
   "execution_count": 9,
   "id": "8b8c41b2",
   "metadata": {},
   "outputs": [
    {
     "name": "stdout",
     "output_type": "stream",
     "text": [
      "Average coefficient of difficulty (X) on speed (Y) = -9.607\n"
     ]
    }
   ],
   "source": [
    "# increased number of samples\n",
    "\n",
    "# runing regression many times to estimate average coefficient of X on Y\n",
    "num_experiments = 1000\n",
    "\n",
    "# store coefficients in a list\n",
    "coeffs = []\n",
    "\n",
    "for i in range(num_experiments):\n",
    "    # take a random sample\n",
    "    sample = df.sample(10000, replace=True)\n",
    "    \n",
    "    X = sm.add_constant(sample[\"difficulty\"])\n",
    "    y = sample[\"speed\"]\n",
    "    model = sm.OLS(y, X).fit()\n",
    "    coeffs.append(model.params[\"difficulty\"])\n",
    "\n",
    "# find the average coefficient\n",
    "avg_coef = np.mean(coeffs)\n",
    "print(f\"Average coefficient of difficulty (X) on speed (Y) = {avg_coef:.3f}\")"
   ]
  },
  {
   "cell_type": "code",
   "execution_count": null,
   "id": "a5abefc8",
   "metadata": {},
   "outputs": [
    {
     "name": "stdout",
     "output_type": "stream",
     "text": [
      "Average coefficient of difficulty (X) on speed (Y) = -9.611\n"
     ]
    }
   ],
   "source": [
    "# increased number of experiments (20s to run)\n",
    "\n",
    "# runing regression many times to estimate average coefficient of X on Y\n",
    "num_experiments = 10000\n",
    "\n",
    "# store coefficients in a list\n",
    "coeffs2 = []\n",
    "\n",
    "for i in range(num_experiments):\n",
    "    # take a random sample\n",
    "    sample = df.sample(10000, replace=True)\n",
    "    \n",
    "    X = sm.add_constant(sample[\"difficulty\"])\n",
    "    y = sample[\"speed\"]\n",
    "    model = sm.OLS(y, X).fit()\n",
    "    coeffs2.append(model.params[\"difficulty\"])\n",
    "\n",
    "# find the average coefficient\n",
    "avg_coef = np.mean(coeffs2)\n",
    "print(f\"Average coefficient of difficulty (X) on speed (Y) = {avg_coef:.3f}\")"
   ]
  },
  {
   "cell_type": "code",
   "execution_count": 11,
   "id": "919e0f00",
   "metadata": {},
   "outputs": [
    {
     "name": "stdout",
     "output_type": "stream",
     "text": [
      "Average coefficient of difficulty (X) on speed (Y) = -9.616\n"
     ]
    }
   ],
   "source": [
    "# increased number of samples, lower experiments\n",
    "\n",
    "# runing regression many times to estimate average coefficient of X on Y\n",
    "num_experiments = 1000\n",
    "\n",
    "# store coefficients in a list\n",
    "coeffs = []\n",
    "\n",
    "for i in range(num_experiments):\n",
    "    # take a random sample\n",
    "    sample = df.sample(50000, replace=True)\n",
    "    \n",
    "    X = sm.add_constant(sample[\"difficulty\"])\n",
    "    y = sample[\"speed\"]\n",
    "    model = sm.OLS(y, X).fit()\n",
    "    coeffs.append(model.params[\"difficulty\"])\n",
    "\n",
    "# find the average coefficient\n",
    "avg_coef = np.mean(coeffs)\n",
    "print(f\"Average coefficient of difficulty (X) on speed (Y) = {avg_coef:.3f}\")"
   ]
  },
  {
   "cell_type": "markdown",
   "id": "3db8c796",
   "metadata": {},
   "source": [
    "Option A\n",
    "-9.661\n",
    "\n",
    "Option B\n",
    "-10.14\n",
    "\n",
    "Option C\n",
    "-9.243\n",
    "\n",
    "Option D\n",
    "-8.927"
   ]
  },
  {
   "cell_type": "markdown",
   "id": "3b3ec876",
   "metadata": {},
   "source": [
    "All experiments found coefficient of X to be around -9.6"
   ]
  },
  {
   "cell_type": "code",
   "execution_count": 13,
   "id": "8cfdec9b",
   "metadata": {},
   "outputs": [
    {
     "data": {
      "text/plain": [
       "const         14.903014\n",
       "difficulty    -9.560471\n",
       "dtype: float64"
      ]
     },
     "execution_count": 13,
     "metadata": {},
     "output_type": "execute_result"
    }
   ],
   "source": [
    "model.params"
   ]
  },
  {
   "cell_type": "markdown",
   "id": "41c333a3",
   "metadata": {},
   "source": [
    "Question 2 \n",
    "\n",
    "Then use ﻿X﻿ and ﻿Z﻿ to predict ﻿Y﻿ many times via regression with different datasets. Which of these is closest to the average coefficient of ﻿X﻿? \n",
    "\n",
    "\n",
    "\n",
    "Note: In practice, should we run such a regression? We are controlling for ﻿Z﻿, but ﻿Z﻿ is a collider. That is, ﻿Y﻿ and ﻿X﻿ both cause ﻿Z﻿. Should we control of it or are we better off ignoring ﻿Z﻿? Why or why not? "
   ]
  },
  {
   "cell_type": "markdown",
   "id": "7ebc52e0",
   "metadata": {},
   "source": [
    "Option A\n",
    "-9.821\n",
    "\n",
    "Option B\n",
    "-10.85\n",
    "\n",
    "Option C\n",
    "-10.33\n",
    "\n",
    "Option D\n",
    "-11.23"
   ]
  },
  {
   "cell_type": "code",
   "execution_count": 21,
   "id": "015750c7",
   "metadata": {},
   "outputs": [
    {
     "name": "stdout",
     "output_type": "stream",
     "text": [
      "Average coefficient of difficulty X (controlling for collider): -10.290\n"
     ]
    }
   ],
   "source": [
    "num_experiments = 10000\n",
    "sample_size = 20000\n",
    "coeffs = []\n",
    "\n",
    "for i in range(num_experiments):\n",
    "    # Take a random sample from the dataset\n",
    "    sample = df.sample(sample_size, replace=True)\n",
    "    \n",
    "    # controlling for the collider Z (accident), predicting Y based on X and Z \n",
    "    X = sm.add_constant(sample[[\"difficulty\", \"accident\"]])\n",
    "    y = sample[\"speed\"]\n",
    "    \n",
    "    # Fit regression\n",
    "    results = sm.OLS(y, X).fit()\n",
    "    \n",
    "    # Store the coefficient on difficulty\n",
    "    coeffs.append(results.params[\"difficulty\"])\n",
    "\n",
    "# Compute the average coefficient\n",
    "avg_coef = np.mean(coeffs)\n",
    "print(f\"Average coefficient of difficulty X (controlling for collider): {avg_coef:.3f}\")"
   ]
  },
  {
   "cell_type": "markdown",
   "id": "6f325e73",
   "metadata": {},
   "source": [
    "Answer: we should not control for Z becuase it is a collider. It could introduce collider bias and influence the estimate of X --> Y."
   ]
  },
  {
   "cell_type": "code",
   "execution_count": 16,
   "id": "4d5c201a",
   "metadata": {},
   "outputs": [
    {
     "data": {
      "image/png": "[encoded data removed]",
      "text/plain": [
       "<Figure size 600x400 with 1 Axes>"
      ]
     },
     "metadata": {},
     "output_type": "display_data"
    }
   ],
   "source": [
    "import networkx as nx\n",
    "import matplotlib.pyplot as plt\n",
    "\n",
    "# Create a directed graph\n",
    "G = nx.DiGraph()\n",
    "\n",
    "# Define nodes\n",
    "G.add_nodes_from([\"Difficulty (X)\", \"Speed (Y)\", \"Accident (Z)\"])\n",
    "\n",
    "# Add directed edges for causal relationships\n",
    "G.add_edges_from([\n",
    "    (\"Difficulty (X)\", \"Speed (Y)\"),   # X → Y\n",
    "    (\"Difficulty (X)\", \"Accident (Z)\"), # X → Z\n",
    "    (\"Speed (Y)\", \"Accident (Z)\")      # Y → Z\n",
    "])\n",
    "\n",
    "# Draw the graph\n",
    "pos = {\n",
    "    \"Difficulty (X)\": (-1, 0),\n",
    "    \"Speed (Y)\": (1, 0),\n",
    "    \"Accident (Z)\": (0, -1)\n",
    "}\n",
    "\n",
    "plt.figure(figsize=(6, 4))\n",
    "nx.draw(\n",
    "    G, pos,\n",
    "    with_labels=True,\n",
    "    node_size=3500,\n",
    "    node_color=\"pink\",\n",
    "    arrowsize=20,\n",
    "    font_size=10,\n",
    "    font_weight=\"bold\"\n",
    ")\n",
    "plt.title(\"Causal DAG: Z is a Collider\", fontsize=14)\n",
    "plt.show()\n"
   ]
  },
  {
   "cell_type": "markdown",
   "id": "34998ee4",
   "metadata": {},
   "source": [
    "# Week 6"
   ]
  },
  {
   "cell_type": "markdown",
   "id": "666cf38d",
   "metadata": {},
   "source": [
    "Given a dataset, match treated (﻿X equals 1﻿) to untreated (﻿X equals 0﻿) based on the confounder (﻿Z﻿).\n",
    "\n",
    "Find the average treatment effect (each item corresponds to one counterfactual) where the counterfactual is the nearest item in the other group (you can use ﻿N e a r e s t N e i g h b o r s﻿ for this.)\n",
    "\n",
    "Find the average treatment effect on the treated, where each treated item corresponds to a counterfactual untreated item, but we otherwise ignore the untreated items.\n",
    "\n",
    "Find the average treatment effect on the untreated, where each untreated item corresponds to a counterfactual treated item, but we otherwise ignore the treated items.\n",
    "\n",
    "Find the optimal treatment effect, which is the maximum treatment effect across all untreated items (i.e., it ends up considering only a single untreated item with its single counterfactual). \n",
    "\n",
    "Use the file homework_6.1.csv. "
   ]
  },
  {
   "cell_type": "markdown",
   "id": "74aa56d6",
   "metadata": {},
   "source": [
    "Question 1\n",
    "\n",
    "Which is closest to the average treatment effect? \n",
    "\n",
    "Option A\n",
    "1.832\n",
    "\n",
    "Option B\n",
    "1.695\n",
    "\n",
    "Option C\n",
    "2.014\n",
    "\n",
    "Option D\n",
    "1.583"
   ]
  },
  {
   "cell_type": "code",
   "execution_count": 3,
   "id": "7170c234",
   "metadata": {},
   "outputs": [],
   "source": [
    "import pandas as pd\n",
    "from sklearn.neighbors import NearestNeighbors\n",
    "import numpy as np"
   ]
  },
  {
   "cell_type": "code",
   "execution_count": 4,
   "id": "92ac347f",
   "metadata": {},
   "outputs": [],
   "source": [
    "df6 = pd.read_csv(\"homework_6.1.csv\")"
   ]
  },
  {
   "cell_type": "code",
   "execution_count": 5,
   "id": "0fcb5675",
   "metadata": {},
   "outputs": [
    {
     "data": {
      "text/html": [
       "<div>\n",
       "<style scoped>\n",
       "    .dataframe tbody tr th:only-of-type {\n",
       "        vertical-align: middle;\n",
       "    }\n",
       "\n",
       "    .dataframe tbody tr th {\n",
       "        vertical-align: top;\n",
       "    }\n",
       "\n",
       "    .dataframe thead th {\n",
       "        text-align: right;\n",
       "    }\n",
       "</style>\n",
       "<table border=\"1\" class=\"dataframe\">\n",
       "  <thead>\n",
       "    <tr style=\"text-align: right;\">\n",
       "      <th></th>\n",
       "      <th>Z</th>\n",
       "      <th>X</th>\n",
       "      <th>Y</th>\n",
       "    </tr>\n",
       "  </thead>\n",
       "  <tbody>\n",
       "    <tr>\n",
       "      <th>0</th>\n",
       "      <td>0.548814</td>\n",
       "      <td>0</td>\n",
       "      <td>-0.823220</td>\n",
       "    </tr>\n",
       "    <tr>\n",
       "      <th>1</th>\n",
       "      <td>0.715189</td>\n",
       "      <td>1</td>\n",
       "      <td>0.842405</td>\n",
       "    </tr>\n",
       "    <tr>\n",
       "      <th>2</th>\n",
       "      <td>0.602763</td>\n",
       "      <td>1</td>\n",
       "      <td>0.898618</td>\n",
       "    </tr>\n",
       "    <tr>\n",
       "      <th>3</th>\n",
       "      <td>0.544883</td>\n",
       "      <td>0</td>\n",
       "      <td>-0.817325</td>\n",
       "    </tr>\n",
       "    <tr>\n",
       "      <th>4</th>\n",
       "      <td>0.423655</td>\n",
       "      <td>0</td>\n",
       "      <td>-0.635482</td>\n",
       "    </tr>\n",
       "  </tbody>\n",
       "</table>\n",
       "</div>"
      ],
      "text/plain": [
       "          Z  X         Y\n",
       "0  0.548814  0 -0.823220\n",
       "1  0.715189  1  0.842405\n",
       "2  0.602763  1  0.898618\n",
       "3  0.544883  0 -0.817325\n",
       "4  0.423655  0 -0.635482"
      ]
     },
     "execution_count": 5,
     "metadata": {},
     "output_type": "execute_result"
    }
   ],
   "source": [
    "df6.head()"
   ]
  },
  {
   "cell_type": "code",
   "execution_count": 7,
   "id": "d994d201",
   "metadata": {},
   "outputs": [
    {
     "name": "stdout",
     "output_type": "stream",
     "text": [
      "Average Treatment Effect (ATE): 1.6979\n",
      "Average Treatment Effect on Treated (ATT): 1.8464\n",
      "Average Treatment Effect on Untreated (ATU): 1.5495\n",
      "Optimal Treatment Effect: 2.1725\n"
     ]
    }
   ],
   "source": [
    "# create treated and untreated groups\n",
    "treated = df6[df6[\"X\"] == 1].reset_index(drop=True)\n",
    "untreated = df6[df6[\"X\"] == 0].reset_index(drop=True)\n",
    "\n",
    "# nearest neighbors match function\n",
    "def nearest_match(source, target):\n",
    "    nn = NearestNeighbors(n_neighbors=1)\n",
    "    nn.fit(target[[\"Z\"]])\n",
    "    distances, indices = nn.kneighbors(source[[\"Z\"]])\n",
    "    return indices.flatten()\n",
    "\n",
    "# Match treated to untreated and untreated to treated\n",
    "treated_to_untreated_idx = nearest_match(treated, untreated)\n",
    "untreated_to_treated_idx = nearest_match(untreated, treated)\n",
    "\n",
    "# Counterfactuals\n",
    "treated[\"Y_cf\"] = untreated.loc[treated_to_untreated_idx, \"Y\"].values\n",
    "untreated[\"Y_cf\"] = treated.loc[untreated_to_treated_idx, \"Y\"].values\n",
    "\n",
    "# treatment effects\n",
    "treated[\"TE\"] = treated[\"Y\"] - treated[\"Y_cf\"]\n",
    "untreated[\"TE\"] = treated.loc[untreated_to_treated_idx, \"Y\"].values - untreated[\"Y\"]\n",
    "\n",
    "# ATE = average of all treatment effects (both groups)\n",
    "ate = (treated[\"TE\"].mean() + untreated[\"TE\"].mean()) / 2\n",
    "\n",
    "# ATT = average treatment effect on treated\n",
    "att = treated[\"TE\"].mean()\n",
    "\n",
    "# ATU = average treatment effect on untreated\n",
    "atu = untreated[\"TE\"].mean()\n",
    "\n",
    "# Optimal treatment effect (maximum TE among untreated)\n",
    "optimal_te = untreated[\"TE\"].max()\n",
    "\n",
    "# 4. Print results\n",
    "print(f\"Average Treatment Effect (ATE): {ate:.4f}\")\n",
    "print(f\"Average Treatment Effect on Treated (ATT): {att:.4f}\")\n",
    "print(f\"Average Treatment Effect on Untreated (ATU): {atu:.4f}\")\n",
    "print(f\"Optimal Treatment Effect: {optimal_te:.4f}\")"
   ]
  },
  {
   "cell_type": "markdown",
   "id": "ad6478f6",
   "metadata": {},
   "source": [
    "# Week 7"
   ]
  },
  {
   "cell_type": "markdown",
   "id": "d8544d41",
   "metadata": {},
   "source": [
    "Question 1\n",
    "\n",
    "Suppose that a process can be modeled via linear regression: \n",
    "\n",
    "\n",
    "W = np.random.normal(0, 1, (1000,))\n",
    "X = W + np.random.normal(0, 1, (1000,)) Z = np.random.normal(0, 1, (1000,)) \n",
    "Y = X + Z + W + np.random.normal(0, 1, (1000,))\n",
    " \n",
    "\n",
    "\n",
    "Which is closest to the correlation of ﻿X﻿ with the error term in the equation for ﻿Y﻿? "
   ]
  },
  {
   "cell_type": "code",
   "execution_count": 6,
   "id": "ef952c0b",
   "metadata": {},
   "outputs": [],
   "source": [
    "W = np.random.normal(0, 1, (1000,))\n",
    "X = W + np.random.normal(0, 1, (1000,)) \n",
    "Z = np.random.normal(0, 1, (1000,)) \n",
    "Y = X + Z + W + np.random.normal(0, 1, (1000,))"
   ]
  },
  {
   "cell_type": "markdown",
   "id": "07e85248",
   "metadata": {},
   "source": [
    "the error term is \n",
    "error = Z + W + np.random.normal(0, 1, num)\n"
   ]
  },
  {
   "cell_type": "code",
   "execution_count": 12,
   "id": "b8ef8965",
   "metadata": {},
   "outputs": [
    {
     "name": "stdout",
     "output_type": "stream",
     "text": [
      "Correlation between X and the error term: 0.40335501644287275\n"
     ]
    }
   ],
   "source": [
    "W = np.random.normal(0, 1, (1000,))\n",
    "X = W + np.random.normal(0, 1, (1000,))\n",
    "Z = np.random.normal(0, 1, (1000,))\n",
    "Y = X + Z + W + np.random.normal(0, 1, (1000,))\n",
    "\n",
    "# when Y is modeled as depending only on X, the error term = Z + W + random noise\n",
    "error = Z + W + np.random.normal(0, 1, (1000,))\n",
    "\n",
    "# compute correlation between X and the error term\n",
    "corr = np.corrcoef(X, error)[0, 1]\n",
    "print(\"Correlation between X and the error term:\", corr)"
   ]
  },
  {
   "cell_type": "markdown",
   "id": "fa775290",
   "metadata": {},
   "source": [
    "Question 2\n",
    "\n",
    "\n",
    "If ﻿Y﻿ is written as depending on ﻿X﻿ and ﻿Z﻿ only, ﻿W﻿ is part of the error term. Which, then, is closest to the expected correlation of ﻿X﻿ with the error term in the equation for ﻿Y﻿? \n",
    "\n"
   ]
  },
  {
   "cell_type": "code",
   "execution_count": 8,
   "id": "ceb2ce14",
   "metadata": {},
   "outputs": [
    {
     "name": "stdout",
     "output_type": "stream",
     "text": [
      "Correlation between X and the error term: 0.48407444829165097\n"
     ]
    }
   ],
   "source": [
    "\n",
    "W = np.random.normal(0, 1, (1000,))\n",
    "X = W + np.random.normal(0, 1, (1000,))\n",
    "Z = np.random.normal(0, 1, (1000,))\n",
    "Y = X + Z + W + np.random.normal(0, 1, (1000,))\n",
    "\n",
    "# since Y depends on X and Z only, the error term contains W + random noise\n",
    "error = W + np.random.normal(0, 1, (1000,))\n",
    "\n",
    "# compute correlation between X and the error term\n",
    "corr = np.corrcoef(X, error)[0, 1]\n",
    "print(\"Correlation between X and the error term:\", corr)\n"
   ]
  },
  {
   "cell_type": "markdown",
   "id": "d4987e31",
   "metadata": {},
   "source": [
    "Question 3\n",
    "\n",
    "In the data frame for homework_7.1.csv, control for W by regressing ﻿Y﻿ on ﻿X﻿ and ﻿Z﻿ at the following constant values of ﻿W﻿: -1, 0, and 1. (You cannot literally use a constant value of ﻿W﻿, of course, or you will have only one data point! How will you manage this?) The question is: Is the coefficient of ﻿X﻿  \n",
    "\n",
    "Option A\n",
    "increasing\n",
    "\n",
    "Option B\n",
    "decreasing\n",
    "\n",
    "Option C\n",
    "staying about the same (say, within 0.2 or so) as ﻿W﻿ increases? "
   ]
  },
  {
   "cell_type": "code",
   "execution_count": 13,
   "id": "ebf0e890",
   "metadata": {},
   "outputs": [
    {
     "data": {
      "text/html": [
       "<div>\n",
       "<style scoped>\n",
       "    .dataframe tbody tr th:only-of-type {\n",
       "        vertical-align: middle;\n",
       "    }\n",
       "\n",
       "    .dataframe tbody tr th {\n",
       "        vertical-align: top;\n",
       "    }\n",
       "\n",
       "    .dataframe thead th {\n",
       "        text-align: right;\n",
       "    }\n",
       "</style>\n",
       "<table border=\"1\" class=\"dataframe\">\n",
       "  <thead>\n",
       "    <tr style=\"text-align: right;\">\n",
       "      <th></th>\n",
       "      <th>Unnamed: 0</th>\n",
       "      <th>X</th>\n",
       "      <th>W</th>\n",
       "      <th>Z</th>\n",
       "      <th>Y</th>\n",
       "    </tr>\n",
       "  </thead>\n",
       "  <tbody>\n",
       "    <tr>\n",
       "      <th>0</th>\n",
       "      <td>0</td>\n",
       "      <td>1.137055</td>\n",
       "      <td>1.221768</td>\n",
       "      <td>0.327829</td>\n",
       "      <td>1.944532</td>\n",
       "    </tr>\n",
       "    <tr>\n",
       "      <th>1</th>\n",
       "      <td>1</td>\n",
       "      <td>-0.112905</td>\n",
       "      <td>0.465835</td>\n",
       "      <td>0.599650</td>\n",
       "      <td>0.655514</td>\n",
       "    </tr>\n",
       "    <tr>\n",
       "      <th>2</th>\n",
       "      <td>2</td>\n",
       "      <td>2.077755</td>\n",
       "      <td>1.795414</td>\n",
       "      <td>-0.063393</td>\n",
       "      <td>5.934411</td>\n",
       "    </tr>\n",
       "    <tr>\n",
       "      <th>3</th>\n",
       "      <td>3</td>\n",
       "      <td>0.456373</td>\n",
       "      <td>-0.512159</td>\n",
       "      <td>1.177413</td>\n",
       "      <td>-0.188064</td>\n",
       "    </tr>\n",
       "    <tr>\n",
       "      <th>4</th>\n",
       "      <td>4</td>\n",
       "      <td>-1.012402</td>\n",
       "      <td>0.080002</td>\n",
       "      <td>-0.275697</td>\n",
       "      <td>-0.533775</td>\n",
       "    </tr>\n",
       "  </tbody>\n",
       "</table>\n",
       "</div>"
      ],
      "text/plain": [
       "   Unnamed: 0         X         W         Z         Y\n",
       "0           0  1.137055  1.221768  0.327829  1.944532\n",
       "1           1 -0.112905  0.465835  0.599650  0.655514\n",
       "2           2  2.077755  1.795414 -0.063393  5.934411\n",
       "3           3  0.456373 -0.512159  1.177413 -0.188064\n",
       "4           4 -1.012402  0.080002 -0.275697 -0.533775"
      ]
     },
     "execution_count": 13,
     "metadata": {},
     "output_type": "execute_result"
    }
   ],
   "source": [
    "df7 = pd.read_csv(\"homework_7.1.csv\")\n",
    "df7.head()"
   ]
  },
  {
   "cell_type": "code",
   "execution_count": 16,
   "id": "bf1222e1",
   "metadata": {},
   "outputs": [
    {
     "name": "stdout",
     "output_type": "stream",
     "text": [
      "When W is around -1, coefficient of X = 0.990090408694134\n",
      "When W is around 0, coefficient of X = 1.4859822514480032\n",
      "When W is around 1, coefficient of X = 1.9936504417092331\n"
     ]
    }
   ],
   "source": [
    "# Subset the data where W is close to -1\n",
    "df_w_neg1 = df7[(df7['W'] > -1.5) & (df7['W'] < -0.5)]\n",
    "model_neg1 = sm.OLS(df_w_neg1['Y'], sm.add_constant(df_w_neg1[['X', 'Z']])).fit()\n",
    "print(\"When W is around -1, coefficient of X =\", model_neg1.params['X'])\n",
    "\n",
    "# W around 0\n",
    "df_w_0 = df7[(df7['W'] > -0.5) & (df7['W'] < 0.5)]\n",
    "model_0 = sm.OLS(df_w_0['Y'], sm.add_constant(df_w_0[['X', 'Z']])).fit()\n",
    "print(\"When W is around 0, coefficient of X =\", model_0.params['X'])\n",
    "\n",
    "# W around 1\n",
    "df_w_1 = df7[(df7['W'] > 0.5) & (df7['W'] < 1.5)]\n",
    "model_1 = sm.OLS(df_w_1['Y'], sm.add_constant(df_w_1[['X', 'Z']])).fit()\n",
    "print(\"When W is around 1, coefficient of X =\", model_1.params['X'])\n"
   ]
  },
  {
   "cell_type": "markdown",
   "id": "f42ea707",
   "metadata": {},
   "source": [
    "Question 4\n",
    "\n",
    "\n",
    "def make_error(corr_const, num): \n",
    "\n",
    " err = list() \n",
    "\n",
    "    prev = np.random.normal(0, 1) \n",
    "\n",
    " for n in range(num): \n",
    "\n",
    "    prev = corr_const * prev + (1 - corr_const) * np.random.normal(0, 1) \n",
    "\n",
    "    err.append(prev) \n",
    "\n",
    "return np.array(err) \n",
    "\n",
    "\n",
    "\n",
    "Create a linear regression model that uses this function as the error for both (a) the treatment, ﻿X﻿, and (b) the outcome, ﻿Y﻿. (You can use random normal error for any other covariates, if you have them.) \n",
    "\n",
    "\n",
    "\n",
    "As corr_const increases from 0.2 to 0.5 to 0.8, find (i) the standard deviation of the estimate of the ﻿X﻿ coefficient over many trials, and (ii) the mean of the standard error estimate of the ﻿X﻿ coefficient over many trials. \n",
    "\n",
    "\n",
    "\n",
    "When corr_const increases, then: \n",
    "\n",
    "\n",
    "\n",
    "Hint: don't forget to include an intercept in your regression\n",
    "\n",
    "Option A\n",
    "(i) and (ii) remain about the same\n",
    "\n",
    "Option B\n",
    "The ratio (i) / (ii) decreases\n",
    "\n",
    "Option C\n",
    "(i) and (ii) differ, but their ratio remains about the same\n",
    "\n",
    "Option D\n",
    "The ratio (i) / (ii) increases\n",
    "\n"
   ]
  },
  {
   "cell_type": "code",
   "execution_count": 17,
   "id": "bf85ae70",
   "metadata": {},
   "outputs": [
    {
     "name": "stdout",
     "output_type": "stream",
     "text": [
      "   corr_const  (i) std of β_X  (ii) mean SE  ratio (i)/(ii)\n",
      "0         0.2        0.029915      0.031531        0.948757\n",
      "1         0.5        0.041477      0.031510        1.316324\n",
      "2         0.8        0.067064      0.031621        2.120874\n"
     ]
    }
   ],
   "source": [
    "# Function to make correlated errors\n",
    "def make_error(corr_const, num):\n",
    "    err = []\n",
    "    prev = np.random.normal(0, 1)\n",
    "    for i in range(num):\n",
    "        prev = corr_const * prev + (1 - corr_const) * np.random.normal(0, 1)\n",
    "        err.append(prev)\n",
    "    return np.array(err)\n",
    "\n",
    "corr_levels = [0.2, 0.5, 0.8]\n",
    "\n",
    "# To store the results\n",
    "results = []\n",
    "\n",
    "# Fix random seed so we can reproduce results\n",
    "np.random.seed(42)\n",
    "\n",
    "# For each correlation level\n",
    "for corr_const in corr_levels:\n",
    "    all_betas = []\n",
    "    all_ses = []\n",
    "    \n",
    "    # Run many simulations\n",
    "    for i in range(100):  # 100 trials\n",
    "        n = 1000\n",
    "        \n",
    "        # Create errors for X and Y\n",
    "        eX = make_error(corr_const, n)\n",
    "        eY = make_error(corr_const, n)\n",
    "        \n",
    "        # Generate data\n",
    "        Z = np.random.normal(0, 1, n)\n",
    "        X = 0.5 * Z + eX\n",
    "        Y = 1.0 * X + 0.3 * Z + eY\n",
    "        \n",
    "        # Run regression: Y ~ X + Z\n",
    "        X_matrix = sm.add_constant(np.column_stack([X, Z]))\n",
    "        model = sm.OLS(Y, X_matrix).fit()\n",
    "        \n",
    "        # Save the coefficient for X and its standard error\n",
    "        all_betas.append(model.params[1])  # X coefficient\n",
    "        all_ses.append(model.bse[1])       # X standard error\n",
    "    \n",
    "    # Compute (i) and (ii)\n",
    "    std_dev_of_betas = np.std(all_betas)\n",
    "    mean_se = np.mean(all_ses)\n",
    "    ratio = std_dev_of_betas / mean_se\n",
    "    \n",
    "    # Save the results\n",
    "    results.append([corr_const, std_dev_of_betas, mean_se, ratio])\n",
    "\n",
    "# Show results\n",
    "results_df = pd.DataFrame(results, columns=[\"corr_const\", \"(i) std of β_X\", \"(ii) mean SE\", \"ratio (i)/(ii)\"])\n",
    "print(results_df)\n"
   ]
  }
 ],
 "metadata": {
  "kernelspec": {
   "display_name": "Python 3",
   "language": "python",
   "name": "python3"
  },
  "language_info": {
   "codemirror_mode": {
    "name": "ipython",
    "version": 3
   },
   "file_extension": ".py",
   "mimetype": "text/x-python",
   "name": "python",
   "nbconvert_exporter": "python",
   "pygments_lexer": "ipython3",
   "version": "3.12.1"
  }
 },
 "nbformat": 4,
 "nbformat_minor": 5
}
