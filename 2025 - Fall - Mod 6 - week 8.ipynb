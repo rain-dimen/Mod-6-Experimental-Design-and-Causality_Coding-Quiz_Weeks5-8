{
 "cells": [
  {
   "cell_type": "code",
   "execution_count": 242,
   "id": "42a413d1-9ad3-4db3-b701-61286c80c2e3",
   "metadata": {},
   "outputs": [],
   "source": [
    "import numpy as np\n",
    "import pandas as pd\n",
    "import scipy\n",
    "import statsmodels.api as sm\n",
    "import matplotlib.pyplot as plt\n",
    "import itertools\n",
    "from sklearn.model_selection import train_test_split\n",
    "from sklearn.metrics import root_mean_squared_error"
   ]
  },
  {
   "cell_type": "markdown",
   "id": "5b0ffea8-6bf4-498a-b81e-da8435a1661a",
   "metadata": {},
   "source": [
    "# Degrees of freedom for simple regression"
   ]
  },
  {
   "cell_type": "code",
   "execution_count": 243,
   "id": "78adea32-5b71-401b-8d80-396278654b89",
   "metadata": {},
   "outputs": [],
   "source": [
    "pd.set_option('display.precision', 4)\n",
    "pd.set_option('display.float_format', '{:.4f}'.format)  # Avoid scientific notation"
   ]
  },
  {
   "cell_type": "code",
   "execution_count": 253,
   "id": "b23f8a4a-1288-4061-9585-09e63f651d3a",
   "metadata": {},
   "outputs": [
    {
     "name": "stdout",
     "output_type": "stream",
     "text": [
      "const 0.0031922251\n",
      "X 2.9993637251\n"
     ]
    }
   ],
   "source": [
    "num = 10000\n",
    "X = np.random.normal(0, 1, num)\n",
    "epsilon = np.random.normal(0, 1, num)\n",
    "Y = 3 * X + epsilon\n",
    "df = sm.add_constant(pd.DataFrame({\"X\": X}))\n",
    "results = sm.OLS(Y, df).fit()\n",
    "for key, val in results.params.items():\n",
    "    print(key, f\"{val:.10f}\")"
   ]
  },
  {
   "cell_type": "code",
   "execution_count": 254,
   "id": "820e9343-5c3a-4b46-9264-201031599579",
   "metadata": {},
   "outputs": [],
   "source": [
    "Y = 3 * X + epsilon\n",
    "predicted Y = 2.99936 * X + 0.00319\n",
    "Y - predicted Y = (3 - 2.99936) * X + epsilon - 0.00319\n",
    "#np.corrcoef(-0.007 * X + epsilon + 0.01257, Y - results.predict(df))"
   ]
  },
  {
   "cell_type": "code",
   "execution_count": 257,
   "id": "5f7dbfa1-85d9-4f22-ad41-f49d812cb84c",
   "metadata": {},
   "outputs": [
    {
     "name": "stdout",
     "output_type": "stream",
     "text": [
      "const 0.0100422795\n",
      "X 0.0099901339\n"
     ]
    }
   ],
   "source": [
    "for key, val in results.bse.items():\n",
    "    print(key, f\"{val:.10f}\")"
   ]
  },
  {
   "cell_type": "code",
   "execution_count": 258,
   "id": "76cc25fe-4253-4122-b2e8-c0da9ca2af17",
   "metadata": {},
   "outputs": [
    {
     "data": {
      "text/plain": [
       "0.00999013391463854"
      ]
     },
     "execution_count": 258,
     "metadata": {},
     "output_type": "execute_result"
    }
   ],
   "source": [
    "np.sqrt(np.var(Y - results.predict(df), ddof = 2)/ (np.var(X, ddof = 0) * num))"
   ]
  },
  {
   "cell_type": "code",
   "execution_count": 33,
   "id": "08a54095-1cf2-41e0-8afc-d4813264dfbe",
   "metadata": {},
   "outputs": [
    {
     "data": {
      "text/plain": [
       "0.0099324071037131"
      ]
     },
     "execution_count": 33,
     "metadata": {},
     "output_type": "execute_result"
    }
   ],
   "source": [
    "# ddof = 2 for X, intercept.  ddof = 0 for X - just because that's how statsmodels does it.\n",
    "X_bse_estimate = np.sqrt(np.var(Y - results.predict(df), ddof = 2) / (np.var(X, ddof = 0) * num))\n",
    "X_bse_estimate"
   ]
  },
  {
   "cell_type": "markdown",
   "id": "ed9cda97-4ac0-4c29-8d06-d73e90e4a733",
   "metadata": {},
   "source": [
    "$$\\sqrt{\\frac{\\text{Var(Residual)}}{\\text{Var}(X) \\cdot n}}$$"
   ]
  },
  {
   "cell_type": "markdown",
   "id": "04076f81-dd79-479b-b45b-bb5266177d8f",
   "metadata": {},
   "source": [
    "# Degrees of freedom for multiple linear regression"
   ]
  },
  {
   "cell_type": "code",
   "execution_count": 259,
   "id": "ff26b73f-2e64-4473-802a-61e0c2662e04",
   "metadata": {},
   "outputs": [
    {
     "data": {
      "text/plain": [
       "(9.896556558347976e-05, 9.896556558347975e-05)"
      ]
     },
     "execution_count": 259,
     "metadata": {},
     "output_type": "execute_result"
    }
   ],
   "source": [
    "np.linalg.inv(sm.add_constant(X).T @ sm.add_constant(X))[1, 1], 1 / (np.var(X, ddof = 0) * num)"
   ]
  },
  {
   "cell_type": "code",
   "execution_count": 47,
   "id": "44b85978-2b79-448e-911a-6242f4caee8d",
   "metadata": {},
   "outputs": [
    {
     "name": "stdout",
     "output_type": "stream",
     "text": [
      "const 0.070967455\n",
      "X 0.07113418155\n",
      "Z 0.09488357421\n"
     ]
    }
   ],
   "source": [
    "num = 200\n",
    "Z = np.random.normal(0, 1, num)\n",
    "X = Z + np.random.normal(0, 1, num)\n",
    "Y = 3 * X - 1.5 * Z + np.random.normal(0, 1, num)\n",
    "df = sm.add_constant(pd.DataFrame({\"X\": X, \"Z\": Z}))\n",
    "results = sm.OLS(Y, df).fit()\n",
    "for key, value in results.bse.items():\n",
    "    print(key, f\"{value:.10}\")"
   ]
  },
  {
   "cell_type": "code",
   "execution_count": 48,
   "id": "55e3cee3-8908-4452-9074-b7365e00a800",
   "metadata": {},
   "outputs": [
    {
     "data": {
      "text/plain": [
       "array([[200.        , -14.16866621,  -6.63458314],\n",
       "       [-14.16866621, 351.16759123, 173.2420099 ],\n",
       "       [ -6.63458314, 173.2420099 , 197.02951552]])"
      ]
     },
     "execution_count": 48,
     "metadata": {},
     "output_type": "execute_result"
    }
   ],
   "source": [
    "df.values.T @ df.values"
   ]
  },
  {
   "cell_type": "code",
   "execution_count": 49,
   "id": "98baca45-b302-4bf2-acfc-ec601ee22ad1",
   "metadata": {},
   "outputs": [
    {
     "data": {
      "text/plain": [
       "0.005037949637037368"
      ]
     },
     "execution_count": 49,
     "metadata": {},
     "output_type": "execute_result"
    }
   ],
   "source": [
    "np.linalg.inv(df.values.T @ df.values)[1, 1]"
   ]
  },
  {
   "cell_type": "code",
   "execution_count": 50,
   "id": "9bd3d579-b5a7-4a9a-ae50-e5ee98b0dc8a",
   "metadata": {},
   "outputs": [
    {
     "data": {
      "text/plain": [
       "0.07113418155082826"
      ]
     },
     "execution_count": 50,
     "metadata": {},
     "output_type": "execute_result"
    }
   ],
   "source": [
    "# ddof = 3 for const, X, Z.\n",
    "X_bse_estimate = np.sqrt(np.var(Y - results.predict(df), ddof = 3) * (np.linalg.inv(df.values.T @ df.values)[1, 1]))\n",
    "X_bse_estimate"
   ]
  },
  {
   "cell_type": "code",
   "execution_count": 61,
   "id": "5ce9c6b3-0099-4e95-ab6b-9ab7431de37b",
   "metadata": {},
   "outputs": [
    {
     "data": {
      "text/plain": [
       "0.07045338181237368"
      ]
     },
     "execution_count": 61,
     "metadata": {},
     "output_type": "execute_result"
    }
   ],
   "source": [
    "def simulate():\n",
    "    params_list = list()\n",
    "    for _ in range(1000):\n",
    "        num = 200\n",
    "        Z = np.random.normal(0, 1, num)\n",
    "        X = Z + np.random.normal(0, 1, num)\n",
    "        Y = 3 * X - 1.5 * Z + np.random.normal(0, 1, num)\n",
    "        df = sm.add_constant(pd.DataFrame({\"X\": X, \"Z\": Z}))\n",
    "        results = sm.OLS(Y, df).fit()\n",
    "        params_list.append(results.params.X)\n",
    "    return params_list\n",
    "\n",
    "np.array(simulate()).std()"
   ]
  },
  {
   "cell_type": "code",
   "execution_count": 63,
   "id": "95fd0ce4-8e74-4902-b7df-f0dd588adb1d",
   "metadata": {},
   "outputs": [],
   "source": [
    "#plt.hist(simulate(), bins = 40)"
   ]
  },
  {
   "cell_type": "code",
   "execution_count": 61,
   "id": "0225e48f-064f-4f9e-a460-66711f94fae6",
   "metadata": {},
   "outputs": [
    {
     "data": {
      "text/plain": [
       "const   0.1117\n",
       "X       0.1126\n",
       "Z       0.1640\n",
       "dtype: float64"
      ]
     },
     "execution_count": 61,
     "metadata": {},
     "output_type": "execute_result"
    }
   ],
   "source": [
    "# https://stats.stackexchange.com/questions/27916/standard-errors-for-multiple-regression-coefficients\n",
    "\n",
    "num = 100\n",
    "Z = np.random.normal(0, 1, num)\n",
    "X = Z + np.random.normal(0, 1, num)\n",
    "Y = 3 * X - 1.5 * Z + np.random.normal(0, 1, num)\n",
    "df = sm.add_constant(pd.DataFrame({\"X\": X, \"Z\": Z}))\n",
    "results = sm.OLS(Y, df).fit()\n",
    "results.bse"
   ]
  },
  {
   "cell_type": "code",
   "execution_count": 64,
   "id": "077ae3e8-67ab-4e85-b49d-8d82ecebf331",
   "metadata": {},
   "outputs": [
    {
     "name": "stdout",
     "output_type": "stream",
     "text": [
      "statsmodels SE for X: 0.07113418155082833\n",
      "manual SE for X: 0.07113418155082826\n"
     ]
    }
   ],
   "source": [
    "# https://numpy.org/doc/stable/reference/generated/numpy.var\n",
    "# “Delta Degrees of Freedom”: the divisor used in the calculation is N - ddof, where N represents the number of elements.\n",
    "# https://www.6sigma.us/six-sigma-in-focus/df-statistics-degrees-of-freedom-in-statistics/\n",
    "# \"For linear regression models, the degree of freedom for error is the sample size minus the number of \n",
    "# parameters estimated in the model, including the intercept.\"\n",
    "\n",
    "X_design = df.values\n",
    "resid_var = np.var(Y - results.predict(df), ddof = X_design.shape[1])\n",
    "cov_matrix = resid_var * np.linalg.inv(X_design.T @ X_design)\n",
    "print(\"statsmodels SE for X:\", results.bse[\"X\"])\n",
    "print(\"manual SE for X:\", np.sqrt(cov_matrix[1, 1]))"
   ]
  },
  {
   "cell_type": "code",
   "execution_count": 102,
   "id": "afbbf0d2-6618-4d05-a498-3d84b3532b2a",
   "metadata": {},
   "outputs": [
    {
     "data": {
      "text/plain": [
       "0.10299441921575296"
      ]
     },
     "execution_count": 102,
     "metadata": {},
     "output_type": "execute_result"
    }
   ],
   "source": [
    "def simulate(numruns = 10000):\n",
    "    paramlist = list()\n",
    "    for _ in range(numruns):\n",
    "        num = 100\n",
    "        Z = np.random.normal(0, 1, num)\n",
    "        X = Z + np.random.normal(0, 1, num)\n",
    "        Y = 3 * X - 1.5 * Z + np.random.normal(0, 1, num)\n",
    "        df = sm.add_constant(pd.DataFrame({\"X\": X, \"Z\": Z}))\n",
    "        results = sm.OLS(Y, df).fit()\n",
    "        paramlist.append(results.params.X)\n",
    "    return paramlist\n",
    "\n",
    "np.array(simulate()).std()"
   ]
  },
  {
   "cell_type": "code",
   "execution_count": null,
   "id": "9c8ed6c5-6061-4bc2-a7c2-640df8e6980a",
   "metadata": {},
   "outputs": [],
   "source": [
    "resid_var = np.var(results.resid, ddof=results.df_model + 1)\n",
    "\n",
    "# Get design matrix (X and Z with constant)\n",
    "X_design = df.values\n",
    "\n",
    "# Variance-covariance matrix of beta estimates\n",
    "cov_matrix = resid_var * np.linalg.inv(X_design.T @ X_design)\n",
    "\n",
    "# Standard error of coefficient on X (index 1 since index 0 is constant)\n",
    "np.sqrt(cov_matrix[1, 1])"
   ]
  },
  {
   "cell_type": "markdown",
   "id": "1efc83bf-95fe-441a-9d94-d6c99b7eb93f",
   "metadata": {},
   "source": [
    "# P-hacking with polynomial models"
   ]
  },
  {
   "cell_type": "code",
   "execution_count": 65,
   "id": "ca7c9865-c699-4a40-a58f-65105b07f4ed",
   "metadata": {},
   "outputs": [],
   "source": [
    "poly_degree = 3\n",
    "base = [(True, False)] * poly_degree\n",
    "products = list(itertools.product(*base))"
   ]
  },
  {
   "cell_type": "code",
   "execution_count": 68,
   "id": "50e95587-f889-4329-b7ac-cdbcd6cbe226",
   "metadata": {},
   "outputs": [
    {
     "data": {
      "text/plain": [
       "1.2489563002131923"
      ]
     },
     "execution_count": 68,
     "metadata": {},
     "output_type": "execute_result"
    }
   ],
   "source": [
    "num = 100\n",
    "def f(X):\n",
    "    return X + X**2\n",
    "X = np.random.normal(0, 1, num)\n",
    "Y = f(X) + np.random.normal(0, 1, num)\n",
    "\n",
    "X_train, X_test, y_train, y_test = train_test_split(X, Y)\n",
    "\n",
    "df_train = sm.add_constant(pd.DataFrame({\"X\": X_train}))\n",
    "df_test = sm.add_constant(pd.DataFrame({\"X\": X_test}))\n",
    "df_train_X_2 = sm.add_constant(pd.DataFrame({\"X\": X_train, \"X_2\": X_train**2}))\n",
    "df_test_X_2 = sm.add_constant(pd.DataFrame({\"X\": X_test, \"X_2\": X_test**2}))\n",
    "\n",
    "results = sm.OLS(y_train, df_train).fit()\n",
    "root_mean_squared_error(y_test, results.predict(df_test))"
   ]
  },
  {
   "cell_type": "code",
   "execution_count": 69,
   "id": "044385ed-18a9-42c4-aeb4-3daee41c2b63",
   "metadata": {},
   "outputs": [
    {
     "data": {
      "text/plain": [
       "0.9620226299653265"
      ]
     },
     "execution_count": 69,
     "metadata": {},
     "output_type": "execute_result"
    }
   ],
   "source": [
    "results_X_2 = sm.OLS(y_train, df_train_X_2).fit()\n",
    "root_mean_squared_error(y_test, results_X_2.predict(df_test_X_2)) # The error in lecture was results_X_2 was written as results"
   ]
  },
  {
   "cell_type": "code",
   "execution_count": 81,
   "id": "d128326d-c71e-470a-a25b-aa00755bbc08",
   "metadata": {},
   "outputs": [
    {
     "name": "stdout",
     "output_type": "stream",
     "text": [
      "0.9805192253978572 (True, True, True)\n",
      "0.9595438554400081 (True, True, False)\n",
      "1.303222848531271 (True, False, True)\n",
      "1.2372258345316234 (True, False, False)\n",
      "0.9142857106551958 (False, True, True)\n",
      "0.9945978954491173 (False, True, False)\n",
      "1.2399884703717654 (False, False, True)\n"
     ]
    }
   ],
   "source": [
    "num = 100\n",
    "def f(X):\n",
    "    return X + X**2\n",
    "X = np.random.normal(0, 1, num)\n",
    "Y = f(X) + np.random.normal(0, 1, num)\n",
    "\n",
    "X_train, X_test, y_train, y_test = train_test_split(X, Y)\n",
    "\n",
    "for p in products:   \n",
    "#results = sm.OLS(y_train, sm.add_constant(X_train)).fit()\n",
    "#err_false = root_mean_squared_error(y_test, results.predict(sm.add_constant(X_test)))\n",
    "    if not any(p):\n",
    "        continue\n",
    "    d_train = dict()\n",
    "    d_test = dict()\n",
    "    for n, b in enumerate(p):\n",
    "        if b:\n",
    "            d_train[f\"X_{n+1}\"] = X_train**(n + 1)\n",
    "            d_test[f\"X_{n+1}\"] = X_test**(n + 1)\n",
    "    df_train = sm.add_constant(pd.DataFrame(d_train))\n",
    "    df_test = sm.add_constant(pd.DataFrame(d_test))\n",
    "    results = sm.OLS(y_train, df_train).fit()\n",
    "    err_true = root_mean_squared_error(y_test, results.predict(df_test))\n",
    "    print(err_true, p)"
   ]
  },
  {
   "cell_type": "code",
   "execution_count": 84,
   "id": "8b248dd5-4798-483b-9356-18fd02c6be41",
   "metadata": {},
   "outputs": [
    {
     "name": "stdout",
     "output_type": "stream",
     "text": [
      "Index(['X', 'Y', 'X_2', 'X_3', 'X_4', 'X_5', 'X_6', 'X_7', 'X_8', 'X_9',\n",
      "       'X_10', 'X_11'],\n",
      "      dtype='object')\n",
      "Index(['X', 'Y', 'X_2', 'X_3', 'X_4', 'X_5', 'X_6'], dtype='object')\n",
      "Index(['X', 'Y', 'X_2', 'X_3', 'X_4', 'X_5', 'X_7'], dtype='object')\n",
      "Index(['X', 'Y', 'X_2', 'X_3', 'X_4', 'X_5', 'X_8'], dtype='object')\n",
      "Index(['X', 'Y', 'X_2', 'X_3', 'X_4', 'X_5', 'X_9'], dtype='object')\n",
      "Index(['X', 'Y', 'X_2', 'X_3', 'X_4', 'X_5', 'X_10'], dtype='object')\n",
      "Index(['X', 'Y', 'X_2', 'X_3', 'X_4', 'X_5', 'X_11'], dtype='object')\n",
      "Index(['X', 'Y', 'X_2', 'X_3', 'X_4', 'X_5'], dtype='object')\n",
      "Index(['X', 'Y', 'X_2', 'X_3', 'X_4', 'X_10'], dtype='object')\n",
      "Index(['X', 'Y', 'X_2', 'X_3', 'X_4', 'X_11'], dtype='object')\n",
      "Index(['X', 'Y', 'X_2', 'X_3', 'X_4'], dtype='object')\n",
      "Index(['X', 'Y', 'X_2', 'X_3'], dtype='object')\n",
      "Index(['X', 'Y', 'X_2', 'X_4'], dtype='object')\n",
      "Index(['X', 'Y', 'X_3', 'X_4', 'X_5'], dtype='object')\n",
      "Index(['X', 'Y', 'X_3', 'X_6', 'X_10', 'X_11'], dtype='object')\n",
      "Index(['X', 'Y', 'X_3', 'X_7', 'X_9', 'X_11'], dtype='object')\n",
      "Index(['X', 'Y', 'X_3', 'X_7', 'X_10', 'X_11'], dtype='object')\n",
      "Index(['X', 'Y', 'X_3', 'X_8', 'X_9', 'X_10'], dtype='object')\n",
      "Index(['X', 'Y', 'X_3', 'X_8', 'X_9', 'X_11'], dtype='object')\n",
      "Index(['X', 'Y', 'X_4', 'X_5', 'X_7', 'X_11'], dtype='object')\n",
      "Index(['X', 'Y', 'X_4', 'X_5', 'X_8', 'X_10'], dtype='object')\n",
      "Index(['X', 'Y', 'X_4', 'X_5', 'X_8', 'X_11'], dtype='object')\n",
      "Index(['X', 'Y', 'X_4', 'X_5', 'X_9', 'X_10'], dtype='object')\n",
      "Index(['X', 'Y', 'X_4', 'X_5', 'X_9', 'X_11'], dtype='object')\n",
      "Index(['X', 'Y', 'X_4', 'X_5', 'X_10', 'X_11'], dtype='object')\n",
      "Index(['X', 'Y', 'X_4', 'X_6', 'X_8', 'X_11'], dtype='object')\n",
      "Index(['X', 'Y', 'X_4', 'X_6', 'X_9', 'X_10'], dtype='object')\n",
      "Index(['X', 'Y', 'X_4', 'X_6', 'X_9', 'X_11'], dtype='object')\n",
      "Index(['X', 'Y', 'X_4', 'X_6', 'X_10', 'X_11'], dtype='object')\n",
      "Index(['X', 'Y', 'X_4', 'X_7', 'X_8', 'X_11'], dtype='object')\n",
      "Index(['X', 'Y', 'X_4', 'X_7', 'X_9', 'X_10'], dtype='object')\n",
      "Index(['X', 'Y', 'X_4', 'X_7', 'X_9', 'X_11'], dtype='object')\n",
      "Index(['X', 'Y', 'X_4', 'X_8', 'X_9', 'X_10'], dtype='object')\n",
      "Index(['X', 'Y', 'X_5', 'X_6', 'X_7', 'X_11'], dtype='object')\n",
      "Index(['X', 'Y', 'X_5', 'X_6', 'X_8', 'X_10'], dtype='object')\n",
      "Index(['X', 'Y', 'X_5', 'X_6', 'X_8', 'X_11'], dtype='object')\n",
      "Index(['X', 'Y', 'X_5', 'X_6', 'X_9', 'X_10'], dtype='object')\n",
      "Index(['X', 'Y', 'X_5', 'X_6', 'X_9', 'X_11'], dtype='object')\n",
      "Index(['X', 'Y', 'X_5', 'X_7', 'X_8', 'X_10'], dtype='object')\n",
      "Index(['X', 'Y', 'X_5', 'X_7', 'X_8', 'X_11'], dtype='object')\n",
      "Index(['X', 'Y', 'X_6', 'X_7', 'X_8', 'X_9'], dtype='object')\n",
      "(False, False, False, False, True, True, True, True, False, False) 2.1046275554560645\n"
     ]
    }
   ],
   "source": [
    "def f(X):\n",
    "    return X + X**2\n",
    "num = 100\n",
    "num_poly_terms = 10\n",
    "X = np.linspace(0.1, 10, num)\n",
    "Y = f(X) + np.random.normal(0, 2, num)\n",
    "X_train, X_test, y_train, y_test = train_test_split(X, Y)\n",
    "df_train = pd.DataFrame({\"X\": X_train, \"Y\": y_train})\n",
    "df_test = pd.DataFrame({\"X\": X_test, \"Y\": y_test})\n",
    "truefalse = [(True, False)] * num_poly_terms\n",
    "prod = list(itertools.product(*truefalse))\n",
    "best_prod = list()\n",
    "best_error = np.inf\n",
    "for p in prod:\n",
    "    dfcopy_train = df_train.copy()\n",
    "    dfcopy_test = df_test.copy()\n",
    "    for n, b in enumerate(p):\n",
    "        if b:\n",
    "            dfcopy_train[f\"X_{n+2}\"] = dfcopy_train.X**(n+2)\n",
    "            dfcopy_test[f\"X_{n+2}\"] = dfcopy_test.X**(n+2)\n",
    "    results = sm.OLS(dfcopy_train.Y, sm.add_constant(dfcopy_train.drop(columns = [\"Y\"]))).fit()\n",
    "    new_error = root_mean_squared_error(dfcopy_test.Y, results.predict(sm.add_constant(dfcopy_test.drop(columns = [\"Y\"]))))\n",
    "    if new_error < best_error:\n",
    "        best_prod = p\n",
    "        best_error = new_error\n",
    "        print(dfcopy_train.columns)\n",
    "\n",
    "print(best_prod, best_error)"
   ]
  },
  {
   "cell_type": "code",
   "execution_count": 85,
   "id": "a44957a2-7dad-4e57-a894-21fdcd5075f2",
   "metadata": {},
   "outputs": [
    {
     "name": "stdout",
     "output_type": "stream",
     "text": [
      "const    7.4707\n",
      "X       -4.8375\n",
      "X_6      0.2895\n",
      "X_7     -0.2637\n",
      "X_8      0.1038\n",
      "X_9     -0.0227\n",
      "X_10     0.0030\n",
      "X_11    -0.0002\n",
      "X_12     0.0000\n",
      "X_13    -0.0000\n",
      "dtype: float64\n",
      "0.2946276582434112\n",
      "const   0.0000\n",
      "X       0.0002\n",
      "X_6     0.0407\n",
      "X_7     0.0516\n",
      "X_8     0.0624\n",
      "X_9     0.0729\n",
      "X_10    0.0831\n",
      "X_11    0.0929\n",
      "X_12    0.1024\n",
      "X_13    0.1115\n",
      "dtype: float64\n"
     ]
    },
    {
     "data": {
      "image/png": "[encoded data removed]",
      "text/plain": [
       "<Figure size 640x480 with 1 Axes>"
      ]
     },
     "metadata": {},
     "output_type": "display_data"
    }
   ],
   "source": [
    "def f(X):\n",
    "    return 1 / X\n",
    "np.random.seed(0)\n",
    "num = 100\n",
    "num_poly_terms = 12\n",
    "X = np.linspace(0.1, 10, num)\n",
    "epsilon = np.random.normal(0, 2, num)\n",
    "Y = f(X) + epsilon\n",
    "X_train, X_test, y_train, y_test = train_test_split(X, Y)\n",
    "df_train = pd.DataFrame({\"X\": X_train, \"Y\": y_train})\n",
    "df_test = pd.DataFrame({\"X\": X_test, \"Y\": y_test})\n",
    "truefalse = [(True, False)] * num_poly_terms\n",
    "prod = itertools.product(*truefalse)\n",
    "tvalue_list = list()\n",
    "best_ra = 0\n",
    "best_metric = np.inf\n",
    "best_Y = None\n",
    "for p in prod:\n",
    "    dfcopy_train = df_train.copy()\n",
    "    dfcopy_test = df_test.copy()\n",
    "    for n, b in enumerate(p):\n",
    "        if b:\n",
    "            dfcopy_train[f\"X_{n+2}\"] = X_train**(n+2)\n",
    "            dfcopy_test[f\"X_{n+2}\"] = X_test**(n+2)\n",
    "    results = sm.OLS(y_train, sm.add_constant(dfcopy_train.drop(columns = \"Y\"))).fit()\n",
    "    tvalue_list.append(results.tvalues.X)\n",
    "    metric = root_mean_squared_error(y_test, results.predict(sm.add_constant(dfcopy_test.drop(columns = \"Y\"))))\n",
    "    if metric < best_metric:\n",
    "        best_metric = metric\n",
    "        best_result = results\n",
    "        best_Y = np.zeros(100) # estimated Y from model\n",
    "        for param in results.params.keys():\n",
    "            if param == \"const\":\n",
    "                best_Y += results.params.const\n",
    "            elif param == \"X\":\n",
    "                best_Y += results.params.X * np.linspace(0, 10, 100)\n",
    "            else:\n",
    "                exponent = int(param[2:])\n",
    "                best_Y += results.params[param] * np.linspace(0, 10, 100)**exponent\n",
    "    #print(results.rsquared_adj)\n",
    "\n",
    "#plt.hist(tvalue_list)\n",
    "print(best_result.params)\n",
    "plt.plot(np.linspace(0, 10, 100), best_Y)\n",
    "plt.plot(df_test[\"X\"], df_test[\"Y\"], \".\")\n",
    "plt.plot(df_test[\"X\"], f(df_test[\"X\"]), \".\")\n",
    "print(best_result.rsquared_adj)\n",
    "print(best_result.pvalues)"
   ]
  },
  {
   "cell_type": "markdown",
   "id": "d69c419d-5fde-431e-bd79-adcdff8e00c7",
   "metadata": {},
   "source": [
    "# Standard errors in different cases"
   ]
  },
  {
   "cell_type": "markdown",
   "id": "bd113027-65d4-4327-9d50-651fbd89e9cd",
   "metadata": {},
   "source": [
    "# Basic version"
   ]
  },
  {
   "cell_type": "code",
   "execution_count": 266,
   "id": "ec9043ae-a1f6-40d3-8466-99a0e3e80011",
   "metadata": {},
   "outputs": [
    {
     "data": {
      "text/plain": [
       "const   0.0499\n",
       "X       0.0101\n",
       "Z       0.0100\n",
       "dtype: float64"
      ]
     },
     "execution_count": 266,
     "metadata": {},
     "output_type": "execute_result"
    }
   ],
   "source": [
    "num = 10000\n",
    "np.random.seed(0)\n",
    "X = np.random.normal(0, 5, num)\n",
    "Z = np.random.normal(0, 5, num)\n",
    "epsilon = np.random.normal(0, 5, num)\n",
    "Y = 2 * X - Z + epsilon\n",
    "df = pd.DataFrame({\"X\": X, \"Y\": Y, \"Z\": Z})\n",
    "results = sm.OLS(Y, sm.add_constant(df[[\"X\", \"Z\"]])).fit()\n",
    "results.bse"
   ]
  },
  {
   "cell_type": "code",
   "execution_count": 270,
   "id": "208e9caf-dc93-4094-9c19-0cb7c93360e9",
   "metadata": {},
   "outputs": [
    {
     "data": {
      "text/plain": [
       "const   -0.0285\n",
       "X        2.0022\n",
       "Z       -0.9934\n",
       "dtype: float64"
      ]
     },
     "execution_count": 270,
     "metadata": {},
     "output_type": "execute_result"
    }
   ],
   "source": [
    "results.params"
   ]
  },
  {
   "cell_type": "code",
   "execution_count": 269,
   "id": "f9490704-1916-4f8e-abbb-8cb0198d42e5",
   "metadata": {},
   "outputs": [
    {
     "name": "stdout",
     "output_type": "stream",
     "text": [
      "0.011273152493143175\n"
     ]
    }
   ],
   "source": [
    "def coef_std_basic(results):\n",
    "    param_list = list()\n",
    "    np.random.seed(0)\n",
    "    for n in range(100):\n",
    "        num = 10000\n",
    "        X = np.random.normal(0, 5, num)\n",
    "        Z = np.random.normal(0, 5, num)\n",
    "        epsilon = np.random.normal(0, 5, num)\n",
    "        Y = 2 * X - Z + epsilon\n",
    "        df = pd.DataFrame({\"X\": X, \"Y\": Y, \"Z\": Z})\n",
    "        results = sm.OLS(Y, sm.add_constant(df[[\"X\", \"Z\"]])).fit()\n",
    "        param_list.append(results.params.X)\n",
    "    return param_list\n",
    "\n",
    "print(np.std(coef_std_basic(results)))"
   ]
  },
  {
   "cell_type": "markdown",
   "id": "69c10f3c-a44c-45d6-acbc-e7166d7472f4",
   "metadata": {},
   "source": [
    "# Mean of error term is not zero"
   ]
  },
  {
   "cell_type": "code",
   "execution_count": 274,
   "id": "92bec08f-c08a-44f6-9058-c3bb9d875ba4",
   "metadata": {},
   "outputs": [
    {
     "data": {
      "text/plain": [
       "const   0.0499\n",
       "X       0.0101\n",
       "Z       0.0100\n",
       "dtype: float64"
      ]
     },
     "execution_count": 274,
     "metadata": {},
     "output_type": "execute_result"
    }
   ],
   "source": [
    "num = 10000\n",
    "np.random.seed(0)\n",
    "X = np.random.normal(0, 5, num)\n",
    "Z = np.random.normal(0, 5, num)\n",
    "epsilon = np.random.normal(3, 5, num)\n",
    "Y = 2 * X - Z + epsilon\n",
    "df = pd.DataFrame({\"X\": X, \"Y\": Y, \"Z\": Z})\n",
    "results = sm.OLS(Y, sm.add_constant(df[[\"X\", \"Z\"]])).fit()\n",
    "results.bse"
   ]
  },
  {
   "cell_type": "code",
   "execution_count": 275,
   "id": "614ba28a-7f28-46c7-9781-b77d737d5d9d",
   "metadata": {},
   "outputs": [
    {
     "data": {
      "text/plain": [
       "const    2.9715\n",
       "X        2.0022\n",
       "Z       -0.9934\n",
       "dtype: float64"
      ]
     },
     "execution_count": 275,
     "metadata": {},
     "output_type": "execute_result"
    }
   ],
   "source": [
    "results.params"
   ]
  },
  {
   "cell_type": "code",
   "execution_count": 276,
   "id": "78d7ca8a-f6ab-4a8e-bf94-74fdfec0d08c",
   "metadata": {},
   "outputs": [
    {
     "name": "stdout",
     "output_type": "stream",
     "text": [
      "0.011273152493143231\n"
     ]
    }
   ],
   "source": [
    "def coef_std_nonzero_mean():\n",
    "    param_list = list()\n",
    "    np.random.seed(0)\n",
    "    for n in range(100):\n",
    "        num = 10000\n",
    "        X = np.random.normal(0, 5, num)\n",
    "        Z = np.random.normal(0, 5, num)\n",
    "        epsilon = np.random.normal(2, 5, num)\n",
    "        Y = 2 * X - Z + epsilon\n",
    "        df = pd.DataFrame({\"X\": X, \"Y\": Y, \"Z\": Z})\n",
    "        results = sm.OLS(Y, sm.add_constant(df[[\"X\", \"Z\"]])).fit()\n",
    "        param_list.append(results.params.X)\n",
    "    return param_list\n",
    "\n",
    "print(np.std(coef_std_nonzero_mean()))"
   ]
  },
  {
   "cell_type": "markdown",
   "id": "74baf12a-7fc8-441b-b521-02083b42eb42",
   "metadata": {},
   "source": [
    "# Error term is correlated with X"
   ]
  },
  {
   "cell_type": "code",
   "execution_count": 151,
   "id": "827f5152-bfc3-407c-a214-2222e7b8a5dc",
   "metadata": {},
   "outputs": [
    {
     "data": {
      "text/plain": [
       "const   0.0500\n",
       "X       0.0099\n",
       "Z       0.0102\n",
       "dtype: float64"
      ]
     },
     "execution_count": 151,
     "metadata": {},
     "output_type": "execute_result"
    }
   ],
   "source": [
    "num = 10000\n",
    "X = np.random.normal(0, 5, num)\n",
    "Z = np.random.normal(0, 5, num)\n",
    "epsilon = np.random.normal(0, 5, num)\n",
    "Y = 3 * X - Z + epsilon\n",
    "df = pd.DataFrame({\"X\": X, \"Y\": Y, \"Z\": Z, \"epsilon\": epsilon})\n",
    "results = sm.OLS(Y, sm.add_constant(df[[\"X\", \"Z\"]])).fit()\n",
    "results.bse"
   ]
  },
  {
   "cell_type": "code",
   "execution_count": 154,
   "id": "34ea5a15-d903-45be-a0f6-58332f155279",
   "metadata": {},
   "outputs": [
    {
     "data": {
      "text/plain": [
       "2.9966219988438128"
      ]
     },
     "execution_count": 154,
     "metadata": {},
     "output_type": "execute_result"
    }
   ],
   "source": [
    "results.params.X"
   ]
  },
  {
   "cell_type": "code",
   "execution_count": 155,
   "id": "9a08cd7f-14b9-43ec-885c-7b63eb4cb5b7",
   "metadata": {},
   "outputs": [
    {
     "name": "stdout",
     "output_type": "stream",
     "text": [
      "0.011273152493143384\n"
     ]
    }
   ],
   "source": [
    "def coef_std_corr():\n",
    "    param_list = list()\n",
    "    np.random.seed(0)\n",
    "    for n in range(100):\n",
    "        num = 10000\n",
    "        X = np.random.normal(0, 5, num)\n",
    "        Z = np.random.normal(0, 5, num)\n",
    "        epsilon = X + np.random.normal(0, 5, num)\n",
    "        Y = 2 * X - Z + epsilon\n",
    "        df = pd.DataFrame({\"X\": X, \"Y\": Y, \"Z\": Z})\n",
    "        results = sm.OLS(Y, sm.add_constant(df[[\"X\", \"Z\"]])).fit()\n",
    "        param_list.append(results.params.X)\n",
    "    return param_list\n",
    "\n",
    "print(np.std(coef_std_corr()))"
   ]
  },
  {
   "cell_type": "markdown",
   "id": "fba76138-f28c-4da3-884d-b12ba9ea341f",
   "metadata": {},
   "source": [
    "# Error term is heteroskedastic"
   ]
  },
  {
   "cell_type": "code",
   "execution_count": 277,
   "id": "c1826edd-0bf1-42d9-b859-99261419b8d3",
   "metadata": {},
   "outputs": [
    {
     "data": {
      "text/plain": [
       "const   0.0486\n",
       "X       0.0098\n",
       "Z       0.0098\n",
       "dtype: float64"
      ]
     },
     "execution_count": 277,
     "metadata": {},
     "output_type": "execute_result"
    }
   ],
   "source": [
    "num = 10000\n",
    "np.random.seed(0)\n",
    "X = np.random.normal(0, 5, num)\n",
    "Z = np.random.normal(0, 5, num)\n",
    "epsilon = np.random.normal(0, np.abs(X), num)\n",
    "Y = 2 * X - Z + epsilon\n",
    "df = pd.DataFrame({\"X\": X, \"Y\": Y, \"Z\": Z})\n",
    "results = sm.OLS(Y, sm.add_constant(df[[\"X\", \"Z\"]])).fit()\n",
    "results.bse"
   ]
  },
  {
   "cell_type": "code",
   "execution_count": 278,
   "id": "dbec961f-579b-4169-bde8-2e002e5a3a15",
   "metadata": {},
   "outputs": [
    {
     "data": {
      "text/plain": [
       "2.000252714560242"
      ]
     },
     "execution_count": 278,
     "metadata": {},
     "output_type": "execute_result"
    }
   ],
   "source": [
    "results.params.X"
   ]
  },
  {
   "cell_type": "code",
   "execution_count": 280,
   "id": "bf708731-6f6b-4650-ad12-543e76e64cc7",
   "metadata": {},
   "outputs": [
    {
     "data": {
      "text/plain": [
       "[<matplotlib.lines.Line2D at 0x17428d670>]"
      ]
     },
     "execution_count": 280,
     "metadata": {},
     "output_type": "execute_result"
    },
    {
     "data": {
      "image/png": "[encoded data removed]",
      "text/plain": [
       "<Figure size 640x480 with 1 Axes>"
      ]
     },
     "metadata": {},
     "output_type": "display_data"
    }
   ],
   "source": [
    "plt.plot(X, epsilon, \".\")"
   ]
  },
  {
   "cell_type": "code",
   "execution_count": 281,
   "id": "0bdf39c9-4347-4d82-80a3-a8afc82fb26f",
   "metadata": {},
   "outputs": [
    {
     "name": "stdout",
     "output_type": "stream",
     "text": [
      "0.019260489997740132\n"
     ]
    }
   ],
   "source": [
    "def coef_std_heteroskedastic():\n",
    "    param_list = list()\n",
    "    np.random.seed(0)\n",
    "    for n in range(100):\n",
    "        num = 10000\n",
    "        X = np.random.normal(0, 5, num)\n",
    "        Z = np.random.normal(0, 5, num)\n",
    "        epsilon = np.random.normal(0, np.abs(X), num)\n",
    "        Y = 2 * X - Z + epsilon\n",
    "        df = pd.DataFrame({\"X\": X, \"Y\": Y, \"Z\": Z})\n",
    "        results = sm.OLS(Y, sm.add_constant(df[[\"X\", \"Z\"]])).fit()\n",
    "        param_list.append(results.params.X)\n",
    "    return param_list\n",
    "\n",
    "print(np.std(coef_std_heteroskedastic()))"
   ]
  },
  {
   "cell_type": "markdown",
   "id": "2614335f-dd2b-4780-8dae-5caa82b16a9c",
   "metadata": {},
   "source": [
    "# Error term is not normally distributed"
   ]
  },
  {
   "cell_type": "code",
   "execution_count": 113,
   "id": "da4d8d14-e835-413b-bc55-06fab350ec36",
   "metadata": {},
   "outputs": [],
   "source": [
    "# This turns out to be usually fine!"
   ]
  },
  {
   "cell_type": "code",
   "execution_count": 181,
   "id": "7c9ecf35-bdc2-439a-bef9-d690608355d8",
   "metadata": {},
   "outputs": [
    {
     "data": {
      "text/plain": [
       "const   0.0099\n",
       "X       0.0020\n",
       "Z       0.0020\n",
       "dtype: float64"
      ]
     },
     "execution_count": 181,
     "metadata": {},
     "output_type": "execute_result"
    }
   ],
   "source": [
    "num = 10000\n",
    "np.random.seed(0)\n",
    "X = np.random.normal(0, 5, num)\n",
    "Z = np.random.normal(0, 5, num)\n",
    "epsilon = np.random.exponential(1, num) - 1\n",
    "#epsilon += (epsilon > 4) * 20\n",
    "Y = 2 * X - Z + epsilon\n",
    "df = pd.DataFrame({\"X\": X, \"Y\": Y, \"Z\": Z})\n",
    "results = sm.OLS(Y, sm.add_constant(df[[\"X\", \"Z\"]])).fit()\n",
    "results.bse"
   ]
  },
  {
   "cell_type": "code",
   "execution_count": 176,
   "id": "4171fc21-c829-4355-93de-7e32301c0097",
   "metadata": {},
   "outputs": [
    {
     "data": {
      "text/plain": [
       "2.00419727915654"
      ]
     },
     "execution_count": 176,
     "metadata": {},
     "output_type": "execute_result"
    }
   ],
   "source": [
    "results.params.X"
   ]
  },
  {
   "cell_type": "code",
   "execution_count": 182,
   "id": "db0467d6-0211-4bcf-9cf3-b60324558853",
   "metadata": {},
   "outputs": [
    {
     "name": "stdout",
     "output_type": "stream",
     "text": [
      "0.0018214046063591471\n"
     ]
    }
   ],
   "source": [
    "def coef_std_not_normal():\n",
    "    param_list = list()\n",
    "    num = 10000\n",
    "    np.random.seed(0)\n",
    "    for n in range(100):\n",
    "        X = np.random.normal(0, 5, num)\n",
    "        Z = np.random.normal(0, 5, num)\n",
    "        epsilon = np.random.exponential(1, num) - 1\n",
    "        #epsilon += (epsilon > 4) * 20\n",
    "        Y = 2 * X - Z + epsilon\n",
    "        df = pd.DataFrame({\"X\": X, \"Y\": Y, \"Z\": Z})\n",
    "        results = sm.OLS(Y, sm.add_constant(df[[\"X\", \"Z\"]])).fit()\n",
    "        param_list.append(results.params.X)\n",
    "    return param_list\n",
    "\n",
    "print(np.std(coef_std_not_normal()))"
   ]
  },
  {
   "cell_type": "markdown",
   "id": "119e9a75-0fff-4fe7-a34a-16956aa8116b",
   "metadata": {},
   "source": [
    "# Error terms are not IID"
   ]
  },
  {
   "cell_type": "code",
   "execution_count": 239,
   "id": "3ad76684-befa-4e22-8efa-d345b626494e",
   "metadata": {},
   "outputs": [],
   "source": [
    "corr_const = 0.9\n",
    "\n",
    "def make_error(corr_const, num):\n",
    "  err = list()\n",
    "  prev = np.random.normal(0, 5)\n",
    "  for n in range(num):\n",
    "    prev = corr_const * prev + np.sqrt(1 - corr_const**2) * np.random.normal(0, 5)\n",
    "    err.append(prev)\n",
    "  return np.array(err)"
   ]
  },
  {
   "cell_type": "code",
   "execution_count": 240,
   "id": "d12567b8-0a0c-4912-837c-c623b9266544",
   "metadata": {},
   "outputs": [
    {
     "data": {
      "text/plain": [
       "const   0.4765\n",
       "X       0.1300\n",
       "Z       0.1115\n",
       "dtype: float64"
      ]
     },
     "execution_count": 240,
     "metadata": {},
     "output_type": "execute_result"
    }
   ],
   "source": [
    "num = 100\n",
    "Z = make_error(corr_const, num)\n",
    "X = Z + make_error(corr_const, num)\n",
    "Y = 2 * X - Z + make_error(corr_const, num)\n",
    "df = pd.DataFrame({\"X\": X, \"Y\": Y, \"Z\": Z})\n",
    "results = sm.OLS(Y, sm.add_constant(df[[\"X\", \"Z\"]])).fit()\n",
    "results.bse "
   ]
  },
  {
   "cell_type": "code",
   "execution_count": 241,
   "id": "2bac07d5-92cd-415f-a045-89d67389d9d3",
   "metadata": {},
   "outputs": [
    {
     "data": {
      "text/plain": [
       "[<matplotlib.lines.Line2D at 0x30ee553a0>]"
      ]
     },
     "execution_count": 241,
     "metadata": {},
     "output_type": "execute_result"
    },
    {
     "data": {
      "image/png": "[encoded data removed]",
      "text/plain": [
       "<Figure size 640x480 with 1 Axes>"
      ]
     },
     "metadata": {},
     "output_type": "display_data"
    }
   ],
   "source": [
    "plt.plot(X, Y)"
   ]
  },
  {
   "cell_type": "code",
   "execution_count": 223,
   "id": "0e785c78-dcaa-4245-84eb-2c1a4ef6d90d",
   "metadata": {},
   "outputs": [
    {
     "name": "stdout",
     "output_type": "stream",
     "text": [
      "0.2511729382486785\n"
     ]
    }
   ],
   "source": [
    "def coef_std_not_iid():\n",
    "    param_list = list()\n",
    "    for n in range(100):\n",
    "        Z = make_error(corr_const, num)\n",
    "        X = Z + make_error(corr_const, num)\n",
    "        Y = 2 * X - Z + make_error(corr_const, num)\n",
    "        df = pd.DataFrame({\"X\": X, \"Y\": Y, \"Z\": Z})\n",
    "        results = sm.OLS(Y, sm.add_constant(df[[\"X\", \"Z\"]])).fit()\n",
    "        param_list.append(results.params.X)\n",
    "    return param_list\n",
    "\n",
    "print(np.std(coef_std_not_iid()))"
   ]
  },
  {
   "cell_type": "code",
   "execution_count": 132,
   "id": "574b24ef-24b3-4a6b-9403-50d2207d92e7",
   "metadata": {},
   "outputs": [
    {
     "name": "stdout",
     "output_type": "stream",
     "text": [
      "4.925137525360858\n"
     ]
    }
   ],
   "source": [
    "arr = make_error(0.9, 100000)\n",
    "print(np.std(arr))"
   ]
  },
  {
   "cell_type": "code",
   "execution_count": 93,
   "id": "bea81cfa-f8e8-40a6-8cb8-8f657f08d0f4",
   "metadata": {},
   "outputs": [
    {
     "data": {
      "text/plain": [
       "(array([5.1000e+01, 7.9200e+02, 5.9930e+03, 2.1137e+04, 3.5068e+04,\n",
       "        2.6528e+04, 8.9030e+03, 1.4280e+03, 9.2000e+01, 8.0000e+00]),\n",
       " array([-21.2849274777, -16.691575939 , -12.0982244003,  -7.5048728615,\n",
       "         -2.9115213228,   1.6818302159,   6.2751817546,  10.8685332933,\n",
       "         15.461884832 ,  20.0552363708,  24.6485879095]),\n",
       " <BarContainer object of 10 artists>)"
      ]
     },
     "execution_count": 93,
     "metadata": {},
     "output_type": "execute_result"
    },
    {
     "data": {
      "image/png": "[encoded data removed]",
      "text/plain": [
       "<Figure size 640x480 with 1 Axes>"
      ]
     },
     "metadata": {},
     "output_type": "display_data"
    }
   ],
   "source": [
    "plt.hist(arr)"
   ]
  },
  {
   "cell_type": "code",
   "execution_count": null,
   "id": "e99607f9-e408-41bb-98cb-6315996bd729",
   "metadata": {},
   "outputs": [],
   "source": []
  }
 ],
 "metadata": {
  "kernelspec": {
   "display_name": "Python 3 (ipykernel)",
   "language": "python",
   "name": "python3"
  },
  "language_info": {
   "codemirror_mode": {
    "name": "ipython",
    "version": 3
   },
   "file_extension": ".py",
   "mimetype": "text/x-python",
   "name": "python",
   "nbconvert_exporter": "python",
   "pygments_lexer": "ipython3",
   "version": "3.12.0"
  }
 },
 "nbformat": 4,
 "nbformat_minor": 5
}
